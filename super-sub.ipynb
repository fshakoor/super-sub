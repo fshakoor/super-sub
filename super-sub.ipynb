{
 "cells": [
  {
   "cell_type": "markdown",
   "metadata": {},
   "source": [
    "# The Super Sub: Impact of Attacking Substitutes in the Premier League (2013–2023)\n",
    "\n",
    "## Introduction\n",
    "This project investigates the impact of \"Super Subs\"—attacking players brought on as substitutes who score crucial goals late in matches. Specifically, we explore whether these players are more likely than expected to score goals that equalize or win games after being subbed on when their team is tied or losing.\n",
    "\n",
    "## Hypothesis\n",
    "**H₀ (Null):** Attacking substitutes do not have a significantly higher chance of scoring game-tying or winning goals compared to starters, when adjusting for playing time and match context.  \n",
    "**H₁ (Alternative):** Attacking substitutes (Super Subs) have a significantly higher chance of scoring game-tying or winning goals, relative to their time on the pitch and the state of the match.\n",
    "\n",
    "## Scope\n",
    "- **League:** English Premier League  \n",
    "- **Time Period:** 2013–2023 (10 seasons)  \n",
    "- **Focus:** Substitutes entering after the 60th minute in tied or losing game states\n",
    "\n",
    "## Constraints\n",
    "- Publicly available data sources may limit event granularity (e.g., exact match state at time of substitution or goal).\n",
    "- Player position classification may not always be consistent across datasets.\n",
    "\n",
    "## Biases\n",
    "- Stronger teams tend to have deeper benches, possibly skewing substitute impact.\n",
    "- Tactical shifts or injuries may affect the context of substitutions.\n",
    "- Late-game chaos and small sample size may distort scoring likelihoods."
   ]
  }
 ],
 "metadata": {
  "language_info": {
   "name": "python"
  }
 },
 "nbformat": 4,
 "nbformat_minor": 2
}
