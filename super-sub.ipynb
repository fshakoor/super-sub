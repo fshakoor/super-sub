{
 "cells": [
  {
   "cell_type": "markdown",
   "metadata": {},
   "source": [
    "# The Super Sub: Impact of Attacking Substitutes in the Premier League (2014–2023)\n",
    "\n",
    "## Introduction\n",
    "This project investigates the impact of \"Super Subs\"—attacking players brought on as substitutes who score crucial goals late in matches. Specifically, we explore whether these players are more likely than expected to score goals that equalize or win games after being subbed on when their team is tied or losing.\n",
    "\n",
    "## Hypothesis\n",
    "**H₀ (Null):** Attacking substitutes do not have a significantly higher chance of scoring game-tying or winning goals compared to starters, when adjusting for playing time and match context.  \n",
    "**H₁ (Alternative):** Attacking substitutes (Super Subs) have a significantly higher chance of scoring game-tying or winning goals, relative to their time on the pitch and the state of the match.\n",
    "\n",
    "## Scope\n",
    "- **League:** English Premier League  \n",
    "- **Time Period:** 2014–2023 (9 seasons)  \n",
    "- **Focus:** Substitutes entering after the 60th minute in tied or losing game states\n",
    "\n",
    "## Constraints\n",
    "- Publicly available data sources may limit event granularity (e.g., exact match state at time of substitution or goal).\n",
    "- Player position classification may not always be consistent across datasets.\n",
    "\n",
    "## Biases\n",
    "- Stronger teams tend to have deeper benches, possibly skewing substitute impact.\n",
    "- Tactical shifts or injuries may affect the context of substitutions.\n",
    "- Late-game chaos and small sample size may distort scoring likelihoods."
   ]
  },
  {
   "cell_type": "code",
   "execution_count": 10,
   "metadata": {},
   "outputs": [],
   "source": [
    "import requests\n",
    "import pandas as pd\n",
    "from bs4 import BeautifulSoup\n",
    "import json\n",
    "from tqdm import tqdm"
   ]
  },
  {
   "cell_type": "code",
   "execution_count": null,
   "metadata": {},
   "outputs": [
    {
     "name": "stderr",
     "output_type": "stream",
     "text": [
      "100%|██████████| 10/10 [00:11<00:00,  1.19s/it]"
     ]
    },
    {
     "name": "stdout",
     "output_type": "stream",
     "text": [
      "Head:\n",
      "     id  isResult             datetime h.id               h.title  \\\n",
      "0  4749      True  2014-08-16 12:45:00   89     Manchester United   \n",
      "1  4750      True  2014-08-16 15:00:00   75             Leicester   \n",
      "2  4751      True  2014-08-16 15:00:00  202   Queens Park Rangers   \n",
      "3  4752      True  2014-08-16 15:00:00   85                 Stoke   \n",
      "4  4753      True  2014-08-16 15:00:00   76  West Bromwich Albion   \n",
      "\n",
      "  h.short_title a.id      a.title a.short_title goals.h goals.a      xG.h  \\\n",
      "0           MUN   84      Swansea           SWA       1       2   1.16635   \n",
      "1           LEI   72      Everton           EVE       2       2    1.2783   \n",
      "2           QPR   91         Hull           HUL       0       1   1.90067   \n",
      "3           STO   71  Aston Villa           AVL       0       1  0.423368   \n",
      "4           WBA   77   Sunderland           SUN       2       2   1.68343   \n",
      "\n",
      "       xG.a forecast.w forecast.d forecast.l     season  \n",
      "0  0.278076     0.6519     0.2802     0.0679  2014-2015  \n",
      "1  0.613273     0.5513     0.2922     0.1565  2014-2015  \n",
      "2   1.11757       0.59     0.2449     0.1651  2014-2015  \n",
      "3  0.909774     0.1468     0.3637     0.4895  2014-2015  \n",
      "4  0.991901     0.5894     0.2676      0.143  2014-2015  \n"
     ]
    },
    {
     "name": "stderr",
     "output_type": "stream",
     "text": [
      "\n"
     ]
    }
   ],
   "source": [
    "def get_season_data(season):\n",
    "    url = f'https://understat.com/league/EPL/{season}'\n",
    "    res = requests.get(url)\n",
    "    soup = BeautifulSoup(res.content, 'lxml')\n",
    "    script = soup.find_all('script')[1].string\n",
    "    json_data = script[script.index(\"('\") + 2 : script.index(\"')\")]\n",
    "    json_data = json_data.encode('utf8').decode('unicode_escape')\n",
    "    matches = json.loads(json_data)\n",
    "\n",
    "    return pd.json_normalize(matches)\n",
    "\n",
    "# Collect matches for 2014-2023 seasons\n",
    "all_matches = []\n",
    "\n",
    "for year in tqdm(range(2014, 2024)):\n",
    "    df_season = get_season_data(year)\n",
    "    df_season['season'] = f'{year}-{year+1}'\n",
    "    all_matches.append(df_season)\n",
    "\n",
    "df_all = pd.concat(all_matches, ignore_index=True)\n",
    "df_all.to_csv('epl_matches_2014_2023.csv', index=False)\n",
    "\n",
    "print(\"Head:\")\n",
    "print(df_all.head())"
   ]
  }
 ],
 "metadata": {
  "kernelspec": {
   "display_name": "Python 3",
   "language": "python",
   "name": "python3"
  },
  "language_info": {
   "codemirror_mode": {
    "name": "ipython",
    "version": 3
   },
   "file_extension": ".py",
   "mimetype": "text/x-python",
   "name": "python",
   "nbconvert_exporter": "python",
   "pygments_lexer": "ipython3",
   "version": "3.10.6"
  }
 },
 "nbformat": 4,
 "nbformat_minor": 2
}
